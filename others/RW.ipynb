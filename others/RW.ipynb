{
 "cells": [
  {
   "cell_type": "code",
   "execution_count": 9,
   "id": "2116d337",
   "metadata": {},
   "outputs": [],
   "source": [
    "def log_id_generator():\n",
    "    \"\"\"\n",
    "    Generate a unique log id\n",
    "\n",
    "    :param action: The action type, e.g., 'delete' for delete logs.\n",
    "    \"\"\"\n",
    "    last_log = \"L002\"\n",
    "    if last_log:\n",
    "        return f\"L{int(last_log[-3:]) + 1:03d}\"\n",
    "    return \"L001\""
   ]
  },
  {
   "cell_type": "code",
   "execution_count": 10,
   "id": "8713eff8",
   "metadata": {},
   "outputs": [
    {
     "data": {
      "text/plain": [
       "'L003'"
      ]
     },
     "execution_count": 10,
     "metadata": {},
     "output_type": "execute_result"
    }
   ],
   "source": [
    "log_id_generator()"
   ]
  },
  {
   "cell_type": "code",
   "execution_count": 11,
   "id": "92518f1c",
   "metadata": {},
   "outputs": [],
   "source": [
    "test_list = [f\"L{i:03d}\" for i in range(1, 100)]"
   ]
  },
  {
   "cell_type": "code",
   "execution_count": 15,
   "id": "51d6203a",
   "metadata": {},
   "outputs": [],
   "source": [
    "import random\n",
    "random.shuffle(test_list)"
   ]
  },
  {
   "cell_type": "code",
   "execution_count": 17,
   "id": "3e68f574",
   "metadata": {},
   "outputs": [],
   "source": [
    "test_list.sort()"
   ]
  },
  {
   "cell_type": "code",
   "execution_count": 18,
   "id": "de70d4b1",
   "metadata": {},
   "outputs": [
    {
     "data": {
      "text/plain": [
       "['L001',\n",
       " 'L002',\n",
       " 'L003',\n",
       " 'L004',\n",
       " 'L005',\n",
       " 'L006',\n",
       " 'L007',\n",
       " 'L008',\n",
       " 'L009',\n",
       " 'L010',\n",
       " 'L011',\n",
       " 'L012',\n",
       " 'L013',\n",
       " 'L014',\n",
       " 'L015',\n",
       " 'L016',\n",
       " 'L017',\n",
       " 'L018',\n",
       " 'L019',\n",
       " 'L020',\n",
       " 'L021',\n",
       " 'L022',\n",
       " 'L023',\n",
       " 'L024',\n",
       " 'L025',\n",
       " 'L026',\n",
       " 'L027',\n",
       " 'L028',\n",
       " 'L029',\n",
       " 'L030',\n",
       " 'L031',\n",
       " 'L032',\n",
       " 'L033',\n",
       " 'L034',\n",
       " 'L035',\n",
       " 'L036',\n",
       " 'L037',\n",
       " 'L038',\n",
       " 'L039',\n",
       " 'L040',\n",
       " 'L041',\n",
       " 'L042',\n",
       " 'L043',\n",
       " 'L044',\n",
       " 'L045',\n",
       " 'L046',\n",
       " 'L047',\n",
       " 'L048',\n",
       " 'L049',\n",
       " 'L050',\n",
       " 'L051',\n",
       " 'L052',\n",
       " 'L053',\n",
       " 'L054',\n",
       " 'L055',\n",
       " 'L056',\n",
       " 'L057',\n",
       " 'L058',\n",
       " 'L059',\n",
       " 'L060',\n",
       " 'L061',\n",
       " 'L062',\n",
       " 'L063',\n",
       " 'L064',\n",
       " 'L065',\n",
       " 'L066',\n",
       " 'L067',\n",
       " 'L068',\n",
       " 'L069',\n",
       " 'L070',\n",
       " 'L071',\n",
       " 'L072',\n",
       " 'L073',\n",
       " 'L074',\n",
       " 'L075',\n",
       " 'L076',\n",
       " 'L077',\n",
       " 'L078',\n",
       " 'L079',\n",
       " 'L080',\n",
       " 'L081',\n",
       " 'L082',\n",
       " 'L083',\n",
       " 'L084',\n",
       " 'L085',\n",
       " 'L086',\n",
       " 'L087',\n",
       " 'L088',\n",
       " 'L089',\n",
       " 'L090',\n",
       " 'L091',\n",
       " 'L092',\n",
       " 'L093',\n",
       " 'L094',\n",
       " 'L095',\n",
       " 'L096',\n",
       " 'L097',\n",
       " 'L098',\n",
       " 'L099']"
      ]
     },
     "execution_count": 18,
     "metadata": {},
     "output_type": "execute_result"
    }
   ],
   "source": [
    "test_list"
   ]
  },
  {
   "cell_type": "code",
   "execution_count": 19,
   "id": "c183d4ac",
   "metadata": {},
   "outputs": [],
   "source": [
    "log_codes = ['L009', 'L001', 'L101', 'L020', 'L050']\n",
    "sorted_logs = sorted(log_codes, key=lambda x: int(x[1:]))\n"
   ]
  },
  {
   "cell_type": "code",
   "execution_count": 21,
   "id": "9f55178b",
   "metadata": {},
   "outputs": [
    {
     "data": {
      "text/plain": [
       "['L001', 'L009', 'L020', 'L050', 'L101']"
      ]
     },
     "execution_count": 21,
     "metadata": {},
     "output_type": "execute_result"
    }
   ],
   "source": [
    "sorted_logs"
   ]
  },
  {
   "cell_type": "code",
   "execution_count": 7,
   "id": "d53a5bb2",
   "metadata": {},
   "outputs": [],
   "source": [
    "from models import Admins, Items, ItemManagementlog\n",
    "def inject_stats1():\n",
    "    stats = {\n",
    "        'pending_approvals': Admins.query.filter_by(is_approved=False).count(),\n",
    "        'total_items': Items.query.count(),\n",
    "        'updated_items': ItemManagementlog.query.filter_by(action='updated').count(),\n",
    "        'deleted_items': ItemManagementlog.query.filter_by(action='deleted').count(),\n",
    "        'total_admins': Admins.query.count(),\n",
    "        'active_admins': Admins.query.filter_by(is_approved=True).count(),\n",
    "    }\n",
    "    return stats"
   ]
  },
  {
   "cell_type": "code",
   "execution_count": 1,
   "id": "a4ea9f52",
   "metadata": {},
   "outputs": [],
   "source": [
    "from  app import app\n",
    "from models import Admins, Items, ItemManagementlog\n",
    "with app.app_context():\n",
    "    stats = {\n",
    "        'pending_approvals': Admins.query.filter_by(is_approved=False).count(),\n",
    "        'total_items': Items.query.count(),\n",
    "        'updated_items': ItemManagementlog.query.filter_by(action='updated').count(),\n",
    "        'deleted_items': ItemManagementlog.query.filter_by(action='deleted').count(),\n",
    "        'total_admins': Admins.query.count(),\n",
    "        'active_admins': Admins.query.filter_by(is_approved=True).count(),\n",
    "    }"
   ]
  },
  {
   "cell_type": "code",
   "execution_count": 2,
   "id": "33d756af",
   "metadata": {},
   "outputs": [
    {
     "data": {
      "text/plain": [
       "{'pending_approvals': 0,\n",
       " 'total_items': 26,\n",
       " 'updated_items': 5,\n",
       " 'deleted_items': 25,\n",
       " 'total_admins': 12,\n",
       " 'active_admins': 12}"
      ]
     },
     "execution_count": 2,
     "metadata": {},
     "output_type": "execute_result"
    }
   ],
   "source": [
    "stats"
   ]
  },
  {
   "cell_type": "code",
   "execution_count": null,
   "id": "2ff14590",
   "metadata": {},
   "outputs": [
    {
     "data": {
      "text/plain": [
       "12"
      ]
     },
     "execution_count": 25,
     "metadata": {},
     "output_type": "execute_result"
    }
   ],
   "source": [
    "stats['total_admins']\n"
   ]
  },
  {
   "cell_type": "code",
   "execution_count": null,
   "id": "ab4e0f03",
   "metadata": {},
   "outputs": [],
   "source": []
  },
  {
   "cell_type": "markdown",
   "id": "19bae8b4",
   "metadata": {},
   "source": [
    "<div>\n",
    "<h3 style=\"text-align:center;\">Pycountry</h3>\n",
    "<a href=\"https://pypi.org/project/pycountry/\"> Docs</a>\n",
    "</div>"
   ]
  },
  {
   "cell_type": "code",
   "execution_count": 1,
   "id": "8f911d84",
   "metadata": {},
   "outputs": [],
   "source": [
    "import pycountry"
   ]
  },
  {
   "cell_type": "code",
   "execution_count": 2,
   "id": "1b5e3053",
   "metadata": {},
   "outputs": [
    {
     "data": {
      "text/plain": [
       "['Currencies',\n",
       " 'DATABASE_DIR',\n",
       " 'Dict',\n",
       " 'ExistingCountries',\n",
       " 'HistoricCountries',\n",
       " 'LOCALES_DIR',\n",
       " 'LanguageFamilies',\n",
       " 'Languages',\n",
       " 'List',\n",
       " 'Optional',\n",
       " 'Scripts',\n",
       " 'SubdivisionHierarchy',\n",
       " 'Subdivisions',\n",
       " 'Type',\n",
       " '__annotations__',\n",
       " '__builtins__',\n",
       " '__cached__',\n",
       " '__doc__',\n",
       " '__file__',\n",
       " '__loader__',\n",
       " '__name__',\n",
       " '__package__',\n",
       " '__path__',\n",
       " '__spec__',\n",
       " '__version__',\n",
       " '_importlib_metadata',\n",
       " 'countries',\n",
       " 'currencies',\n",
       " 'db',\n",
       " 'get_version',\n",
       " 'historic_countries',\n",
       " 'importlib_resources',\n",
       " 'language_families',\n",
       " 'languages',\n",
       " 'os',\n",
       " 'pycountry',\n",
       " 'remove_accents',\n",
       " 'resource_filename',\n",
       " 'scripts',\n",
       " 'subdivisions',\n",
       " 'unicodedata']"
      ]
     },
     "execution_count": 2,
     "metadata": {},
     "output_type": "execute_result"
    }
   ],
   "source": [
    "dir(pycountry)"
   ]
  },
  {
   "cell_type": "code",
   "execution_count": 6,
   "id": "5dc7179a",
   "metadata": {},
   "outputs": [
    {
     "data": {
      "text/plain": [
       "[('alpha_2', 'KE'),\n",
       " ('alpha_3', 'KEN'),\n",
       " ('flag', '🇰🇪'),\n",
       " ('name', 'Kenya'),\n",
       " ('numeric', '404'),\n",
       " ('official_name', 'Republic of Kenya')]"
      ]
     },
     "execution_count": 6,
     "metadata": {},
     "output_type": "execute_result"
    }
   ],
   "source": [
    "list(pycountry.countries.get(alpha_2='KE'))"
   ]
  },
  {
   "cell_type": "code",
   "execution_count": 7,
   "id": "96da4dde",
   "metadata": {},
   "outputs": [],
   "source": [
    "import phonenumbers"
   ]
  },
  {
   "cell_type": "code",
   "execution_count": 8,
   "id": "e3a4ace7",
   "metadata": {},
   "outputs": [
    {
     "name": "stdout",
     "output_type": "stream",
     "text": [
      "\u001b[31mType:\u001b[39m        module\n",
      "\u001b[31mString form:\u001b[39m <module 'phonenumbers' from 'c:\\\\Users\\\\USER\\\\anaconda3\\\\envs\\\\flask_env\\\\Lib\\\\site-packages\\\\phonenumbers\\\\__init__.py'>\n",
      "\u001b[31mFile:\u001b[39m        c:\\users\\user\\anaconda3\\envs\\flask_env\\lib\\site-packages\\phonenumbers\\__init__.py\n",
      "\u001b[31mDocstring:\u001b[39m  \n",
      "Python phone number parsing and formatting library\n",
      "\n",
      "Examples of use:\n",
      "\n",
      ">>> import phonenumbers\n",
      ">>> from phonenumbers.util import prnt  # equivalent to Py3k print()\n",
      ">>> x = phonenumbers.parse(\"+442083661177\", None)\n",
      ">>> prnt(x)\n",
      "Country Code: 44 National Number: 2083661177\n",
      ">>> type(x)\n",
      "<class 'phonenumbers.phonenumber.PhoneNumber'>\n",
      ">>> str(phonenumbers.format_number(x, phonenumbers.PhoneNumberFormat.NATIONAL))\n",
      "'020 8366 1177'\n",
      ">>> str(phonenumbers.format_number(x, phonenumbers.PhoneNumberFormat.INTERNATIONAL))\n",
      "'+44 20 8366 1177'\n",
      ">>> str(phonenumbers.format_number(x, phonenumbers.PhoneNumberFormat.E164))\n",
      "'+442083661177'\n",
      ">>> y = phonenumbers.parse(\"020 8366 1177\", \"GB\")\n",
      ">>> prnt(y)\n",
      "Country Code: 44 National Number: 2083661177\n",
      ">>> x == y\n",
      "True\n",
      ">>>\n",
      ">>> formatter = phonenumbers.AsYouTypeFormatter(\"US\")\n",
      ">>> prnt(formatter.input_digit(\"6\"))\n",
      "6\n",
      ">>> prnt(formatter.input_digit(\"5\"))\n",
      "65\n",
      ">>> prnt(formatter.input_digit(\"0\"))\n",
      "650\n",
      ">>> prnt(formatter.input_digit(\"2\"))\n",
      "650-2\n",
      ">>> prnt(formatter.input_digit(\"5\"))\n",
      "650-25\n",
      ">>> prnt(formatter.input_digit(\"3\"))\n",
      "650-253\n",
      ">>> prnt(formatter.input_digit(\"2\"))\n",
      "650-2532\n",
      ">>> prnt(formatter.input_digit(\"2\"))\n",
      "(650) 253-22\n",
      ">>> prnt(formatter.input_digit(\"2\"))\n",
      "(650) 253-222\n",
      ">>> prnt(formatter.input_digit(\"2\"))\n",
      "(650) 253-2222\n",
      ">>>\n",
      ">>> text = \"Call me at 510-748-8230 if it's before 9:30, or on 703-4800500 after 10am.\"\n",
      ">>> for match in phonenumbers.PhoneNumberMatcher(text, \"US\"):\n",
      "...     prnt(match)\n",
      "...\n",
      "PhoneNumberMatch [11,23) 510-748-8230\n",
      "PhoneNumberMatch [51,62) 703-4800500\n",
      ">>> for match in phonenumbers.PhoneNumberMatcher(text, \"US\"):\n",
      "...     prnt(phonenumbers.format_number(match.number, phonenumbers.PhoneNumberFormat.E164))\n",
      "...\n",
      "+15107488230\n",
      "+17034800500\n",
      ">>>"
     ]
    }
   ],
   "source": [
    "phonenumbers?"
   ]
  },
  {
   "cell_type": "code",
   "execution_count": 9,
   "id": "4a291200",
   "metadata": {},
   "outputs": [
    {
     "data": {
      "text/plain": [
       "['AsYouTypeFormatter',\n",
       " 'COUNTRY_CODES_FOR_NON_GEO_REGIONS',\n",
       " 'COUNTRY_CODE_TO_REGION_CODE',\n",
       " 'CountryCodeSource',\n",
       " 'FrozenPhoneNumber',\n",
       " 'Leniency',\n",
       " 'MatchType',\n",
       " 'NON_DIGITS_PATTERN',\n",
       " 'NumberFormat',\n",
       " 'NumberParseException',\n",
       " 'PhoneMetadata',\n",
       " 'PhoneNumber',\n",
       " 'PhoneNumberDesc',\n",
       " 'PhoneNumberFormat',\n",
       " 'PhoneNumberMatch',\n",
       " 'PhoneNumberMatcher',\n",
       " 'PhoneNumberType',\n",
       " 'REGION_CODE_FOR_NON_GEO_ENTITY',\n",
       " 'SUPPORTED_REGIONS',\n",
       " 'SUPPORTED_SHORT_REGIONS',\n",
       " 'ShortNumberCost',\n",
       " 'UNKNOWN_REGION',\n",
       " 'ValidationResult',\n",
       " '__all__',\n",
       " '__builtins__',\n",
       " '__cached__',\n",
       " '__doc__',\n",
       " '__file__',\n",
       " '__loader__',\n",
       " '__name__',\n",
       " '__package__',\n",
       " '__path__',\n",
       " '__spec__',\n",
       " '__version__',\n",
       " 'asyoutypeformatter',\n",
       " 'can_be_internationally_dialled',\n",
       " 'connects_to_emergency_number',\n",
       " 'convert_alpha_characters_in_number',\n",
       " 'country_code_for_region',\n",
       " 'country_code_for_valid_region',\n",
       " 'country_mobile_token',\n",
       " 'data',\n",
       " 'example_number',\n",
       " 'example_number_for_non_geo_entity',\n",
       " 'example_number_for_type',\n",
       " 'expected_cost',\n",
       " 'expected_cost_for_region',\n",
       " 'format_by_pattern',\n",
       " 'format_in_original_format',\n",
       " 'format_national_number_with_carrier_code',\n",
       " 'format_national_number_with_preferred_carrier_code',\n",
       " 'format_number',\n",
       " 'format_number_for_mobile_dialing',\n",
       " 'format_out_of_country_calling_number',\n",
       " 'format_out_of_country_keeping_alpha_chars',\n",
       " 'invalid_example_number',\n",
       " 'is_alpha_number',\n",
       " 'is_carrier_specific',\n",
       " 'is_carrier_specific_for_region',\n",
       " 'is_emergency_number',\n",
       " 'is_mobile_number_portable_region',\n",
       " 'is_nanpa_country',\n",
       " 'is_number_geographical',\n",
       " 'is_number_match',\n",
       " 'is_number_type_geographical',\n",
       " 'is_possible_number',\n",
       " 'is_possible_number_for_type',\n",
       " 'is_possible_number_for_type_with_reason',\n",
       " 'is_possible_number_string',\n",
       " 'is_possible_number_with_reason',\n",
       " 'is_possible_short_number',\n",
       " 'is_possible_short_number_for_region',\n",
       " 'is_sms_service_for_region',\n",
       " 'is_valid_number',\n",
       " 'is_valid_number_for_region',\n",
       " 'is_valid_short_number',\n",
       " 'is_valid_short_number_for_region',\n",
       " 'length_of_geographical_area_code',\n",
       " 'length_of_national_destination_code',\n",
       " 'national_significant_number',\n",
       " 'ndd_prefix_for_region',\n",
       " 'normalize_diallable_chars_only',\n",
       " 'normalize_digits_only',\n",
       " 'number_type',\n",
       " 'parse',\n",
       " 'phonemetadata',\n",
       " 'phonenumber',\n",
       " 'phonenumbermatcher',\n",
       " 'phonenumberutil',\n",
       " 're_util',\n",
       " 'region_code_for_country_code',\n",
       " 'region_code_for_number',\n",
       " 'region_codes_for_country_code',\n",
       " 'shortdata',\n",
       " 'shortnumberinfo',\n",
       " 'supported_calling_codes',\n",
       " 'supported_types_for_non_geo_entity',\n",
       " 'supported_types_for_region',\n",
       " 'truncate_too_long_number',\n",
       " 'unicode_util',\n",
       " 'util']"
      ]
     },
     "execution_count": 9,
     "metadata": {},
     "output_type": "execute_result"
    }
   ],
   "source": [
    "dir(phonenumbers)"
   ]
  },
  {
   "cell_type": "code",
   "execution_count": 17,
   "id": "5ff0f982",
   "metadata": {},
   "outputs": [
    {
     "data": {
      "text/plain": [
       "<module 'phonenumbers.phonenumber' from 'c:\\\\Users\\\\USER\\\\anaconda3\\\\envs\\\\flask_env\\\\Lib\\\\site-packages\\\\phonenumbers\\\\phonenumber.py'>"
      ]
     },
     "execution_count": 17,
     "metadata": {},
     "output_type": "execute_result"
    }
   ],
   "source": [
    "phonenumbers.phonenumber"
   ]
  },
  {
   "cell_type": "markdown",
   "id": "fcf4ad2e",
   "metadata": {},
   "source": []
  },
  {
   "cell_type": "code",
   "execution_count": 19,
   "id": "48f78462",
   "metadata": {},
   "outputs": [],
   "source": [
    "import pycountry\n",
    "\n",
    "def get_country_choices():\n",
    "    countries = [(country.alpha_2, country.name) for country in pycountry.countries]\n",
    "    countries.sort(key=lambda x: x[1])\n",
    "    return countries\n"
   ]
  },
  {
   "cell_type": "code",
   "execution_count": 20,
   "id": "7a9164ef",
   "metadata": {},
   "outputs": [
    {
     "data": {
      "text/plain": [
       "[('AF', 'Afghanistan'),\n",
       " ('AL', 'Albania'),\n",
       " ('DZ', 'Algeria'),\n",
       " ('AS', 'American Samoa'),\n",
       " ('AD', 'Andorra'),\n",
       " ('AO', 'Angola'),\n",
       " ('AI', 'Anguilla'),\n",
       " ('AQ', 'Antarctica'),\n",
       " ('AG', 'Antigua and Barbuda'),\n",
       " ('AR', 'Argentina'),\n",
       " ('AM', 'Armenia'),\n",
       " ('AW', 'Aruba'),\n",
       " ('AU', 'Australia'),\n",
       " ('AT', 'Austria'),\n",
       " ('AZ', 'Azerbaijan'),\n",
       " ('BS', 'Bahamas'),\n",
       " ('BH', 'Bahrain'),\n",
       " ('BD', 'Bangladesh'),\n",
       " ('BB', 'Barbados'),\n",
       " ('BY', 'Belarus'),\n",
       " ('BE', 'Belgium'),\n",
       " ('BZ', 'Belize'),\n",
       " ('BJ', 'Benin'),\n",
       " ('BM', 'Bermuda'),\n",
       " ('BT', 'Bhutan'),\n",
       " ('BO', 'Bolivia, Plurinational State of'),\n",
       " ('BQ', 'Bonaire, Sint Eustatius and Saba'),\n",
       " ('BA', 'Bosnia and Herzegovina'),\n",
       " ('BW', 'Botswana'),\n",
       " ('BV', 'Bouvet Island'),\n",
       " ('BR', 'Brazil'),\n",
       " ('IO', 'British Indian Ocean Territory'),\n",
       " ('BN', 'Brunei Darussalam'),\n",
       " ('BG', 'Bulgaria'),\n",
       " ('BF', 'Burkina Faso'),\n",
       " ('BI', 'Burundi'),\n",
       " ('CV', 'Cabo Verde'),\n",
       " ('KH', 'Cambodia'),\n",
       " ('CM', 'Cameroon'),\n",
       " ('CA', 'Canada'),\n",
       " ('KY', 'Cayman Islands'),\n",
       " ('CF', 'Central African Republic'),\n",
       " ('TD', 'Chad'),\n",
       " ('CL', 'Chile'),\n",
       " ('CN', 'China'),\n",
       " ('CX', 'Christmas Island'),\n",
       " ('CC', 'Cocos (Keeling) Islands'),\n",
       " ('CO', 'Colombia'),\n",
       " ('KM', 'Comoros'),\n",
       " ('CG', 'Congo'),\n",
       " ('CD', 'Congo, The Democratic Republic of the'),\n",
       " ('CK', 'Cook Islands'),\n",
       " ('CR', 'Costa Rica'),\n",
       " ('HR', 'Croatia'),\n",
       " ('CU', 'Cuba'),\n",
       " ('CW', 'Curaçao'),\n",
       " ('CY', 'Cyprus'),\n",
       " ('CZ', 'Czechia'),\n",
       " ('CI', \"Côte d'Ivoire\"),\n",
       " ('DK', 'Denmark'),\n",
       " ('DJ', 'Djibouti'),\n",
       " ('DM', 'Dominica'),\n",
       " ('DO', 'Dominican Republic'),\n",
       " ('EC', 'Ecuador'),\n",
       " ('EG', 'Egypt'),\n",
       " ('SV', 'El Salvador'),\n",
       " ('GQ', 'Equatorial Guinea'),\n",
       " ('ER', 'Eritrea'),\n",
       " ('EE', 'Estonia'),\n",
       " ('SZ', 'Eswatini'),\n",
       " ('ET', 'Ethiopia'),\n",
       " ('FK', 'Falkland Islands (Malvinas)'),\n",
       " ('FO', 'Faroe Islands'),\n",
       " ('FJ', 'Fiji'),\n",
       " ('FI', 'Finland'),\n",
       " ('FR', 'France'),\n",
       " ('GF', 'French Guiana'),\n",
       " ('PF', 'French Polynesia'),\n",
       " ('TF', 'French Southern Territories'),\n",
       " ('GA', 'Gabon'),\n",
       " ('GM', 'Gambia'),\n",
       " ('GE', 'Georgia'),\n",
       " ('DE', 'Germany'),\n",
       " ('GH', 'Ghana'),\n",
       " ('GI', 'Gibraltar'),\n",
       " ('GR', 'Greece'),\n",
       " ('GL', 'Greenland'),\n",
       " ('GD', 'Grenada'),\n",
       " ('GP', 'Guadeloupe'),\n",
       " ('GU', 'Guam'),\n",
       " ('GT', 'Guatemala'),\n",
       " ('GG', 'Guernsey'),\n",
       " ('GN', 'Guinea'),\n",
       " ('GW', 'Guinea-Bissau'),\n",
       " ('GY', 'Guyana'),\n",
       " ('HT', 'Haiti'),\n",
       " ('HM', 'Heard Island and McDonald Islands'),\n",
       " ('VA', 'Holy See (Vatican City State)'),\n",
       " ('HN', 'Honduras'),\n",
       " ('HK', 'Hong Kong'),\n",
       " ('HU', 'Hungary'),\n",
       " ('IS', 'Iceland'),\n",
       " ('IN', 'India'),\n",
       " ('ID', 'Indonesia'),\n",
       " ('IR', 'Iran, Islamic Republic of'),\n",
       " ('IQ', 'Iraq'),\n",
       " ('IE', 'Ireland'),\n",
       " ('IM', 'Isle of Man'),\n",
       " ('IL', 'Israel'),\n",
       " ('IT', 'Italy'),\n",
       " ('JM', 'Jamaica'),\n",
       " ('JP', 'Japan'),\n",
       " ('JE', 'Jersey'),\n",
       " ('JO', 'Jordan'),\n",
       " ('KZ', 'Kazakhstan'),\n",
       " ('KE', 'Kenya'),\n",
       " ('KI', 'Kiribati'),\n",
       " ('KP', \"Korea, Democratic People's Republic of\"),\n",
       " ('KR', 'Korea, Republic of'),\n",
       " ('KW', 'Kuwait'),\n",
       " ('KG', 'Kyrgyzstan'),\n",
       " ('LA', \"Lao People's Democratic Republic\"),\n",
       " ('LV', 'Latvia'),\n",
       " ('LB', 'Lebanon'),\n",
       " ('LS', 'Lesotho'),\n",
       " ('LR', 'Liberia'),\n",
       " ('LY', 'Libya'),\n",
       " ('LI', 'Liechtenstein'),\n",
       " ('LT', 'Lithuania'),\n",
       " ('LU', 'Luxembourg'),\n",
       " ('MO', 'Macao'),\n",
       " ('MG', 'Madagascar'),\n",
       " ('MW', 'Malawi'),\n",
       " ('MY', 'Malaysia'),\n",
       " ('MV', 'Maldives'),\n",
       " ('ML', 'Mali'),\n",
       " ('MT', 'Malta'),\n",
       " ('MH', 'Marshall Islands'),\n",
       " ('MQ', 'Martinique'),\n",
       " ('MR', 'Mauritania'),\n",
       " ('MU', 'Mauritius'),\n",
       " ('YT', 'Mayotte'),\n",
       " ('MX', 'Mexico'),\n",
       " ('FM', 'Micronesia, Federated States of'),\n",
       " ('MD', 'Moldova, Republic of'),\n",
       " ('MC', 'Monaco'),\n",
       " ('MN', 'Mongolia'),\n",
       " ('ME', 'Montenegro'),\n",
       " ('MS', 'Montserrat'),\n",
       " ('MA', 'Morocco'),\n",
       " ('MZ', 'Mozambique'),\n",
       " ('MM', 'Myanmar'),\n",
       " ('NA', 'Namibia'),\n",
       " ('NR', 'Nauru'),\n",
       " ('NP', 'Nepal'),\n",
       " ('NL', 'Netherlands'),\n",
       " ('NC', 'New Caledonia'),\n",
       " ('NZ', 'New Zealand'),\n",
       " ('NI', 'Nicaragua'),\n",
       " ('NE', 'Niger'),\n",
       " ('NG', 'Nigeria'),\n",
       " ('NU', 'Niue'),\n",
       " ('NF', 'Norfolk Island'),\n",
       " ('MK', 'North Macedonia'),\n",
       " ('MP', 'Northern Mariana Islands'),\n",
       " ('NO', 'Norway'),\n",
       " ('OM', 'Oman'),\n",
       " ('PK', 'Pakistan'),\n",
       " ('PW', 'Palau'),\n",
       " ('PS', 'Palestine, State of'),\n",
       " ('PA', 'Panama'),\n",
       " ('PG', 'Papua New Guinea'),\n",
       " ('PY', 'Paraguay'),\n",
       " ('PE', 'Peru'),\n",
       " ('PH', 'Philippines'),\n",
       " ('PN', 'Pitcairn'),\n",
       " ('PL', 'Poland'),\n",
       " ('PT', 'Portugal'),\n",
       " ('PR', 'Puerto Rico'),\n",
       " ('QA', 'Qatar'),\n",
       " ('RO', 'Romania'),\n",
       " ('RU', 'Russian Federation'),\n",
       " ('RW', 'Rwanda'),\n",
       " ('RE', 'Réunion'),\n",
       " ('BL', 'Saint Barthélemy'),\n",
       " ('SH', 'Saint Helena, Ascension and Tristan da Cunha'),\n",
       " ('KN', 'Saint Kitts and Nevis'),\n",
       " ('LC', 'Saint Lucia'),\n",
       " ('MF', 'Saint Martin (French part)'),\n",
       " ('PM', 'Saint Pierre and Miquelon'),\n",
       " ('VC', 'Saint Vincent and the Grenadines'),\n",
       " ('WS', 'Samoa'),\n",
       " ('SM', 'San Marino'),\n",
       " ('ST', 'Sao Tome and Principe'),\n",
       " ('SA', 'Saudi Arabia'),\n",
       " ('SN', 'Senegal'),\n",
       " ('RS', 'Serbia'),\n",
       " ('SC', 'Seychelles'),\n",
       " ('SL', 'Sierra Leone'),\n",
       " ('SG', 'Singapore'),\n",
       " ('SX', 'Sint Maarten (Dutch part)'),\n",
       " ('SK', 'Slovakia'),\n",
       " ('SI', 'Slovenia'),\n",
       " ('SB', 'Solomon Islands'),\n",
       " ('SO', 'Somalia'),\n",
       " ('ZA', 'South Africa'),\n",
       " ('GS', 'South Georgia and the South Sandwich Islands'),\n",
       " ('SS', 'South Sudan'),\n",
       " ('ES', 'Spain'),\n",
       " ('LK', 'Sri Lanka'),\n",
       " ('SD', 'Sudan'),\n",
       " ('SR', 'Suriname'),\n",
       " ('SJ', 'Svalbard and Jan Mayen'),\n",
       " ('SE', 'Sweden'),\n",
       " ('CH', 'Switzerland'),\n",
       " ('SY', 'Syrian Arab Republic'),\n",
       " ('TW', 'Taiwan, Province of China'),\n",
       " ('TJ', 'Tajikistan'),\n",
       " ('TZ', 'Tanzania, United Republic of'),\n",
       " ('TH', 'Thailand'),\n",
       " ('TL', 'Timor-Leste'),\n",
       " ('TG', 'Togo'),\n",
       " ('TK', 'Tokelau'),\n",
       " ('TO', 'Tonga'),\n",
       " ('TT', 'Trinidad and Tobago'),\n",
       " ('TN', 'Tunisia'),\n",
       " ('TM', 'Turkmenistan'),\n",
       " ('TC', 'Turks and Caicos Islands'),\n",
       " ('TV', 'Tuvalu'),\n",
       " ('TR', 'Türkiye'),\n",
       " ('UG', 'Uganda'),\n",
       " ('UA', 'Ukraine'),\n",
       " ('AE', 'United Arab Emirates'),\n",
       " ('GB', 'United Kingdom'),\n",
       " ('US', 'United States'),\n",
       " ('UM', 'United States Minor Outlying Islands'),\n",
       " ('UY', 'Uruguay'),\n",
       " ('UZ', 'Uzbekistan'),\n",
       " ('VU', 'Vanuatu'),\n",
       " ('VE', 'Venezuela, Bolivarian Republic of'),\n",
       " ('VN', 'Viet Nam'),\n",
       " ('VG', 'Virgin Islands, British'),\n",
       " ('VI', 'Virgin Islands, U.S.'),\n",
       " ('WF', 'Wallis and Futuna'),\n",
       " ('EH', 'Western Sahara'),\n",
       " ('YE', 'Yemen'),\n",
       " ('ZM', 'Zambia'),\n",
       " ('ZW', 'Zimbabwe'),\n",
       " ('AX', 'Åland Islands')]"
      ]
     },
     "execution_count": 20,
     "metadata": {},
     "output_type": "execute_result"
    }
   ],
   "source": [
    "get_country_choices()"
   ]
  },
  {
   "cell_type": "code",
   "execution_count": null,
   "id": "f26b3624",
   "metadata": {},
   "outputs": [],
   "source": [
    "def get_country_code(country_alpha_2):\n",
    "    try:\n",
    "        example_number = phonenumbers.example_number_for_type(country_alpha_2, phonenumbers.PhoneNumberType.MOBILE)\n",
    "        code = \"+\" + str(example_number.country_code)\n",
    "        return code\n",
    "    except:\n",
    "        return ''"
   ]
  },
  {
   "cell_type": "code",
   "execution_count": 26,
   "id": "42a080c8",
   "metadata": {},
   "outputs": [],
   "source": [
    "def get_country_phone_code(country):\n",
    "    try:\n",
    "        code = f\"+{phonenumbers.example_number_for_type(country.upper(), phonenumbers.PhoneNumberType.MOBILE).country_code}\"\n",
    "        return code\n",
    "    except:\n",
    "        return ''\n"
   ]
  },
  {
   "cell_type": "code",
   "execution_count": 30,
   "id": "56503cec",
   "metadata": {},
   "outputs": [
    {
     "data": {
      "text/plain": [
       "'+254'"
      ]
     },
     "execution_count": 30,
     "metadata": {},
     "output_type": "execute_result"
    }
   ],
   "source": [
    "get_country_phone_code('kE')"
   ]
  },
  {
   "cell_type": "code",
   "execution_count": 31,
   "id": "11a5bdbf",
   "metadata": {},
   "outputs": [
    {
     "ename": "SyntaxError",
     "evalue": "invalid syntax (3303026708.py, line 1)",
     "output_type": "error",
     "traceback": [
      "  \u001b[36mCell\u001b[39m\u001b[36m \u001b[39m\u001b[32mIn[31]\u001b[39m\u001b[32m, line 1\u001b[39m\n\u001b[31m    \u001b[39m\u001b[31mif or(username, email, password):\u001b[39m\n       ^\n\u001b[31mSyntaxError\u001b[39m\u001b[31m:\u001b[39m invalid syntax\n"
     ]
    }
   ],
   "source": [
    "if or(username, email, password):\n",
    "    print('True')"
   ]
  },
  {
   "cell_type": "code",
   "execution_count": 33,
   "id": "adf2bce7",
   "metadata": {},
   "outputs": [
    {
     "ename": "ModuleNotFoundError",
     "evalue": "No module named 'char'",
     "output_type": "error",
     "traceback": [
      "\u001b[31m---------------------------------------------------------------------------\u001b[39m",
      "\u001b[31mModuleNotFoundError\u001b[39m                       Traceback (most recent call last)",
      "\u001b[36mCell\u001b[39m\u001b[36m \u001b[39m\u001b[32mIn[33]\u001b[39m\u001b[32m, line 1\u001b[39m\n\u001b[32m----> \u001b[39m\u001b[32m1\u001b[39m \u001b[38;5;28;01mimport\u001b[39;00m\u001b[38;5;250m \u001b[39m\u001b[34;01mchar\u001b[39;00m\n\u001b[32m      2\u001b[39m char.isdigit(\u001b[33m'\u001b[39m\u001b[33mU\u001b[39m\u001b[33m'\u001b[39m)\n",
      "\u001b[31mModuleNotFoundError\u001b[39m: No module named 'char'"
     ]
    }
   ],
   "source": [
    "import char\n",
    "char.isdigit('U')"
   ]
  },
  {
   "cell_type": "code",
   "execution_count": 34,
   "id": "64f50cef",
   "metadata": {},
   "outputs": [
    {
     "ename": "ImportError",
     "evalue": "cannot import name 'char' from 'string' (c:\\Users\\USER\\anaconda3\\envs\\flask_env\\Lib\\string.py)",
     "output_type": "error",
     "traceback": [
      "\u001b[31m---------------------------------------------------------------------------\u001b[39m",
      "\u001b[31mImportError\u001b[39m                               Traceback (most recent call last)",
      "\u001b[36mCell\u001b[39m\u001b[36m \u001b[39m\u001b[32mIn[34]\u001b[39m\u001b[32m, line 1\u001b[39m\n\u001b[32m----> \u001b[39m\u001b[32m1\u001b[39m \u001b[38;5;28;01mfrom\u001b[39;00m\u001b[38;5;250m \u001b[39m\u001b[34;01mstring\u001b[39;00m\u001b[38;5;250m \u001b[39m\u001b[38;5;28;01mimport\u001b[39;00m char\n",
      "\u001b[31mImportError\u001b[39m: cannot import name 'char' from 'string' (c:\\Users\\USER\\anaconda3\\envs\\flask_env\\Lib\\string.py)"
     ]
    }
   ],
   "source": [
    "from string import char"
   ]
  },
  {
   "cell_type": "markdown",
   "id": "c6f7f68f",
   "metadata": {},
   "source": [
    "<h3 style=\"text-align:center;\">Users Module</h3>"
   ]
  },
  {
   "cell_type": "code",
   "execution_count": 1,
   "id": "7a2f0613",
   "metadata": {},
   "outputs": [
    {
     "ename": "ModuleNotFoundError",
     "evalue": "No module named 'users'",
     "output_type": "error",
     "traceback": [
      "\u001b[31m---------------------------------------------------------------------------\u001b[39m",
      "\u001b[31mModuleNotFoundError\u001b[39m                       Traceback (most recent call last)",
      "\u001b[36mCell\u001b[39m\u001b[36m \u001b[39m\u001b[32mIn[1]\u001b[39m\u001b[32m, line 1\u001b[39m\n\u001b[32m----> \u001b[39m\u001b[32m1\u001b[39m \u001b[38;5;28;01mfrom\u001b[39;00m\u001b[38;5;250m \u001b[39m\u001b[34;01musers\u001b[39;00m\u001b[34;01m.\u001b[39;00m\u001b[34;01mmodels\u001b[39;00m\u001b[38;5;250m \u001b[39m\u001b[38;5;28;01mimport\u001b[39;00m Users\n\u001b[32m      2\u001b[39m \u001b[38;5;28;01mfrom\u001b[39;00m\u001b[38;5;250m \u001b[39m\u001b[34;01mextensions\u001b[39;00m\u001b[38;5;250m \u001b[39m\u001b[38;5;28;01mimport\u001b[39;00m db\n\u001b[32m      3\u001b[39m \u001b[38;5;28;01mdef\u001b[39;00m\u001b[38;5;250m \u001b[39m\u001b[34mgenerate_user_id\u001b[39m():\n",
      "\u001b[31mModuleNotFoundError\u001b[39m: No module named 'users'"
     ]
    }
   ],
   "source": [
    "from users.models import Users\n",
    "from extensions import db\n",
    "def generate_user_id():\n",
    "    last_user_id = Users.query.filter(Users.user_id.like('U%')).order_by(db.desc(Users.user_id)).first()\n",
    "    if not last_user_id:\n",
    "        return \"U001\"\n",
    "    last_id = int(last_user_id[1:])\n",
    "    return f\"U{last_id + 1:03d}\"\n",
    "\n",
    "generate_user_id()"
   ]
  },
  {
   "cell_type": "markdown",
   "id": "fb828c04",
   "metadata": {},
   "source": [
    "<div class=\"profile-container\">\n",
    "    <h1 class=\"text-center\">Edit Profile</h1>\n",
    "\n",
    "    <div class=\"profile-section\">\n",
    "        <h3>Profile Picture</h3>\n",
    "        <div class=\"profile-picture-area\">\n",
    "            <img src=\"placeholder.jpg\" alt=\"Profile Picture\" class=\"profile-pic-preview\">\n",
    "            <input type=\"file\" id=\"photo-upload\" accept=\"image/*\">\n",
    "            <button class=\"btn-upload\" onclick=\"document.getElementById('photo-upload').click();\">\n",
    "                Change Photo\n",
    "            </button>\n",
    "            <p class=\"hint-text\">JPG or PNG. Max 5MB.</p>\n",
    "        </div>\n",
    "    </div>\n",
    "    <div class=\"input-group\">\n",
    "    <label for=\"dob\">Date of Birth</label>\n",
    "    <input type=\"date\" id=\"dob\" name=\"dob\" class=\"form-control\">\n",
    "</div>\n",
    "\n",
    "    <div class=\"profile-section\">\n",
    "        <h3>Personal Information</h3>\n",
    "        <form>\n",
    "            <label for=\"name\">Name</label>\n",
    "            <input type=\"text\" id=\"name\" name=\"name\" value=\"John Doe\">\n",
    "            \n",
    "            <label for=\"dob\">Date of Birth</label>\n",
    "            <input type=\"date\" id=\"dob\" name=\"dob\">\n",
    "        </form>\n",
    "    </div>\n",
    "    \n",
    "    <div class=\"profile-section\">\n",
    "        <h3>Contact & Location</h3>\n",
    "        <form>\n",
    "            <label for=\"phone\">Phone Number</label>\n",
    "            <input type=\"tel\" id=\"phone\" name=\"phone\">\n",
    "\n",
    "            <label for=\"location\">Location</label>\n",
    "            <input type=\"text\" id=\"location\" name=\"location\" placeholder=\"City, Country\">\n",
    "        </form>\n",
    "    </div>\n",
    "\n",
    "    <div class=\"profile-section\">\n",
    "        <h3>My Invite Code</h3>\n",
    "        <div class=\"invite-code-display\">\n",
    "            <p id=\"invite-code\">XYZ123ABC</p>\n",
    "            <button class=\"btn-copy\">Copy</button>\n",
    "        </div>\n",
    "        <p class=\"hint-text\">Share this code with friends to invite them.</p>\n",
    "    </div>\n",
    "    \n",
    "    <div class=\"text-center\">\n",
    "        <button class=\"btn-save\">Save Changes</button>\n",
    "    </div>\n",
    "</div>"
   ]
  },
  {
   "cell_type": "code",
   "execution_count": null,
   "id": "1cb2e880",
   "metadata": {},
   "outputs": [],
   "source": []
  }
 ],
 "metadata": {
  "kernelspec": {
   "display_name": "flask_env",
   "language": "python",
   "name": "python3"
  },
  "language_info": {
   "codemirror_mode": {
    "name": "ipython",
    "version": 3
   },
   "file_extension": ".py",
   "mimetype": "text/x-python",
   "name": "python",
   "nbconvert_exporter": "python",
   "pygments_lexer": "ipython3",
   "version": "3.13.2"
  }
 },
 "nbformat": 4,
 "nbformat_minor": 5
}
