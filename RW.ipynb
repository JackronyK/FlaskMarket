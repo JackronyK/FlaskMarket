{
 "cells": [
  {
   "cell_type": "code",
   "execution_count": 9,
   "id": "2116d337",
   "metadata": {},
   "outputs": [],
   "source": [
    "def log_id_generator():\n",
    "    \"\"\"\n",
    "    Generate a unique log id\n",
    "\n",
    "    :param action: The action type, e.g., 'delete' for delete logs.\n",
    "    \"\"\"\n",
    "    last_log = \"L002\"\n",
    "    if last_log:\n",
    "        return f\"L{int(last_log[-3:]) + 1:03d}\"\n",
    "    return \"L001\""
   ]
  },
  {
   "cell_type": "code",
   "execution_count": 10,
   "id": "8713eff8",
   "metadata": {},
   "outputs": [
    {
     "data": {
      "text/plain": [
       "'L003'"
      ]
     },
     "execution_count": 10,
     "metadata": {},
     "output_type": "execute_result"
    }
   ],
   "source": [
    "log_id_generator()"
   ]
  },
  {
   "cell_type": "code",
   "execution_count": 11,
   "id": "92518f1c",
   "metadata": {},
   "outputs": [],
   "source": [
    "test_list = [f\"L{i:03d}\" for i in range(1, 100)]"
   ]
  },
  {
   "cell_type": "code",
   "execution_count": 15,
   "id": "51d6203a",
   "metadata": {},
   "outputs": [],
   "source": [
    "import random\n",
    "random.shuffle(test_list)"
   ]
  },
  {
   "cell_type": "code",
   "execution_count": 17,
   "id": "3e68f574",
   "metadata": {},
   "outputs": [],
   "source": [
    "test_list.sort()"
   ]
  },
  {
   "cell_type": "code",
   "execution_count": 18,
   "id": "de70d4b1",
   "metadata": {},
   "outputs": [
    {
     "data": {
      "text/plain": [
       "['L001',\n",
       " 'L002',\n",
       " 'L003',\n",
       " 'L004',\n",
       " 'L005',\n",
       " 'L006',\n",
       " 'L007',\n",
       " 'L008',\n",
       " 'L009',\n",
       " 'L010',\n",
       " 'L011',\n",
       " 'L012',\n",
       " 'L013',\n",
       " 'L014',\n",
       " 'L015',\n",
       " 'L016',\n",
       " 'L017',\n",
       " 'L018',\n",
       " 'L019',\n",
       " 'L020',\n",
       " 'L021',\n",
       " 'L022',\n",
       " 'L023',\n",
       " 'L024',\n",
       " 'L025',\n",
       " 'L026',\n",
       " 'L027',\n",
       " 'L028',\n",
       " 'L029',\n",
       " 'L030',\n",
       " 'L031',\n",
       " 'L032',\n",
       " 'L033',\n",
       " 'L034',\n",
       " 'L035',\n",
       " 'L036',\n",
       " 'L037',\n",
       " 'L038',\n",
       " 'L039',\n",
       " 'L040',\n",
       " 'L041',\n",
       " 'L042',\n",
       " 'L043',\n",
       " 'L044',\n",
       " 'L045',\n",
       " 'L046',\n",
       " 'L047',\n",
       " 'L048',\n",
       " 'L049',\n",
       " 'L050',\n",
       " 'L051',\n",
       " 'L052',\n",
       " 'L053',\n",
       " 'L054',\n",
       " 'L055',\n",
       " 'L056',\n",
       " 'L057',\n",
       " 'L058',\n",
       " 'L059',\n",
       " 'L060',\n",
       " 'L061',\n",
       " 'L062',\n",
       " 'L063',\n",
       " 'L064',\n",
       " 'L065',\n",
       " 'L066',\n",
       " 'L067',\n",
       " 'L068',\n",
       " 'L069',\n",
       " 'L070',\n",
       " 'L071',\n",
       " 'L072',\n",
       " 'L073',\n",
       " 'L074',\n",
       " 'L075',\n",
       " 'L076',\n",
       " 'L077',\n",
       " 'L078',\n",
       " 'L079',\n",
       " 'L080',\n",
       " 'L081',\n",
       " 'L082',\n",
       " 'L083',\n",
       " 'L084',\n",
       " 'L085',\n",
       " 'L086',\n",
       " 'L087',\n",
       " 'L088',\n",
       " 'L089',\n",
       " 'L090',\n",
       " 'L091',\n",
       " 'L092',\n",
       " 'L093',\n",
       " 'L094',\n",
       " 'L095',\n",
       " 'L096',\n",
       " 'L097',\n",
       " 'L098',\n",
       " 'L099']"
      ]
     },
     "execution_count": 18,
     "metadata": {},
     "output_type": "execute_result"
    }
   ],
   "source": [
    "test_list"
   ]
  },
  {
   "cell_type": "code",
   "execution_count": 19,
   "id": "c183d4ac",
   "metadata": {},
   "outputs": [],
   "source": [
    "log_codes = ['L009', 'L001', 'L101', 'L020', 'L050']\n",
    "sorted_logs = sorted(log_codes, key=lambda x: int(x[1:]))\n"
   ]
  },
  {
   "cell_type": "code",
   "execution_count": 21,
   "id": "9f55178b",
   "metadata": {},
   "outputs": [
    {
     "data": {
      "text/plain": [
       "['L001', 'L009', 'L020', 'L050', 'L101']"
      ]
     },
     "execution_count": 21,
     "metadata": {},
     "output_type": "execute_result"
    }
   ],
   "source": [
    "sorted_logs"
   ]
  },
  {
   "cell_type": "code",
   "execution_count": null,
   "id": "d53a5bb2",
   "metadata": {},
   "outputs": [],
   "source": []
  }
 ],
 "metadata": {
  "kernelspec": {
   "display_name": "flask_env",
   "language": "python",
   "name": "python3"
  },
  "language_info": {
   "codemirror_mode": {
    "name": "ipython",
    "version": 3
   },
   "file_extension": ".py",
   "mimetype": "text/x-python",
   "name": "python",
   "nbconvert_exporter": "python",
   "pygments_lexer": "ipython3",
   "version": "3.13.2"
  }
 },
 "nbformat": 4,
 "nbformat_minor": 5
}
